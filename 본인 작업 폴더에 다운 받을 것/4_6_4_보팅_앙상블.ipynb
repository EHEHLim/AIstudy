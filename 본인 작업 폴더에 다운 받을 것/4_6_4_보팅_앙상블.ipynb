{
  "nbformat": 4,
  "nbformat_minor": 0,
  "metadata": {
    "kernelspec": {
      "display_name": "Python 3",
      "language": "python",
      "name": "python3"
    },
    "language_info": {
      "codemirror_mode": {
        "name": "ipython",
        "version": 3
      },
      "file_extension": ".py",
      "mimetype": "text/x-python",
      "name": "python",
      "nbconvert_exporter": "python",
      "pygments_lexer": "ipython3",
      "version": "3.6.4"
    },
    "colab": {
      "name": "4.6.4_보팅 앙상블.ipynb",
      "provenance": [],
      "collapsed_sections": []
    }
  },
  "cells": [
    {
      "cell_type": "markdown",
      "metadata": {
        "id": "VUW3wh25sa-T"
      },
      "source": [
        "# 4.6.4 보팅 앙상블 손글씨 분류"
      ]
    },
    {
      "cell_type": "markdown",
      "metadata": {
        "id": "1426Vu7Fsa-W"
      },
      "source": [
        "##kNN, SVM, 의사결정트리의 3가지 모델을 앙상블하여 더 나은 예측 실행하기\n",
        "###\"배깅(Bagging) = 부트스트랩(Bootstrap) + 어그리게이팅(Aggregating)\" 중에서 어그리게이팅만 실행하는 예제임."
      ]
    },
    {
      "cell_type": "code",
      "metadata": {
        "id": "27bjH7MKsa-X"
      },
      "source": [
        "from sklearn import datasets   # 사이킷런의 MNIST 손글씨 데이터 간략화 버전(8x8) 사용\n",
        "from sklearn import tree         # 의사결정트리 실행\n",
        "from sklearn.neighbors import KNeighborsClassifier   # kNN 실행\n",
        "from sklearn.svm import SVC  # 서포트 벡터 머신(SVM) 실행\n",
        "from sklearn.ensemble import VotingClassifier     # 보팅(voting) 실행\n",
        "from sklearn.model_selection import train_test_split\n",
        "from sklearn.metrics import accuracy_score"
      ],
      "execution_count": null,
      "outputs": []
    },
    {
      "cell_type": "markdown",
      "metadata": {
        "id": "xXlrLeX5sa-X"
      },
      "source": [
        "## 손글씨 데이터 불러오기"
      ]
    },
    {
      "cell_type": "code",
      "metadata": {
        "id": "W4zFsc6Jsa-Y"
      },
      "source": [
        "mnist = datasets.load_digits()   # 사이킷런의 MNIST 손글씨(숫자) 데이터 불러오기\n",
        "features, labels = mnist.data, mnist.target   # 학습 데이터와 레이블 데이터 분리\n",
        "\n",
        "# ★★학습 데이터(80%)와 테스트 데이터(20%)로 분리★★\n",
        "X_train, X_test, y_train, y_test = train_test_split(features, labels, test_size=0.2)  \n",
        "# 총 숫자 개수: 1,797개 -> 학습 데이터 1,438개, 테스트 데이터 359개."
      ],
      "execution_count": null,
      "outputs": []
    },
    {
      "cell_type": "markdown",
      "metadata": {
        "id": "yr5Fqgwcsa-Y"
      },
      "source": [
        "## 단일 모델의 정확도 측정"
      ]
    },
    {
      "cell_type": "code",
      "metadata": {
        "colab": {
          "base_uri": "https://localhost:8080/"
        },
        "id": "paGhxmpesa-Y",
        "outputId": "f4e4e997-8810-448d-a6df-964cca7e0149"
      },
      "source": [
        "# 의사결정트리 학습 및 테스트                                                       # 분류 때 사용하는 특징 최대 수  \n",
        "dtree = tree.DecisionTreeClassifier(criterion=\"gini\", max_depth=8, max_features=32, random_state=35)\n",
        "dtree = dtree.fit(X_train, y_train)                        # 트리 최대 깊이\n",
        "dtree_predicted = dtree.predict(X_test)\n",
        "\n",
        "# kNN 학습 및 테스트\n",
        "knn = KNeighborsClassifier(n_neighbors=299).fit(X_train, y_train)  # 주변 299명에게 물어보겠다?? but 5로 하면 정확도 확 올라감.\n",
        "knn_predicted = knn.predict(X_test)\n",
        "\n",
        "# SVM 학습 및 테스트                                              # 랜덤 seed 값은 정확한 비교를 위해 위의 의사결정트리꺼와 동일한 값으로 설정\n",
        "svm = SVC(C=0.1, gamma=0.003, probability=True, random_state=35).fit(X_train, y_train)\n",
        "svm_predicted = svm.predict(X_test)   # probability : 확률 계산을 수행할지 여부. 하드/소프트 보팅을 수행하기 위해서 True로 설정해야 함\n",
        "\n",
        "print(\"[정확도]\")\n",
        "print(\"의사결정트리 : %.2f\" %(accuracy_score(y_test, dtree_predicted)*100) + \"%\")\n",
        "print(\"kNN : %.2f\" %(accuracy_score(y_test, knn_predicted)*100) + \"%\")\n",
        "print(\"SVM : %.2f\" %(accuracy_score(y_test, svm_predicted)*100) + \"%\")"
      ],
      "execution_count": null,
      "outputs": [
        {
          "output_type": "stream",
          "name": "stdout",
          "text": [
            "[정확도]\n",
            "의사결정트리 : 78.06%\n",
            "kNN : 81.67%\n",
            "SVM : 93.61%\n"
          ]
        }
      ]
    },
    {
      "cell_type": "code",
      "metadata": {
        "colab": {
          "base_uri": "https://localhost:8080/"
        },
        "id": "VKRuZRsVsa-Z",
        "outputId": "ba80ae47-8b46-4bd1-ce8e-647822dad414"
      },
      "source": [
        "# 사이킷런의 VotingClassifier를 사용하지 않고 SVM의 직접 분류값별 확률 확인해 보기\n",
        "svm_proba = svm.predict_proba(X_test)\n",
        "print(svm_proba[0:2])  # 테스트 데이터 첫 번째꺼부터 2개까지만 출력"
      ],
      "execution_count": null,
      "outputs": [
        {
          "output_type": "stream",
          "name": "stdout",
          "text": [
            "[[1.58395116e-03 9.08912353e-01 6.40327542e-03 2.57131907e-03\n",
            "  6.98038546e-03 7.25001435e-03 1.85366151e-03 6.01827991e-03\n",
            "  4.50836785e-02 1.33430816e-02]\n",
            " [8.40227841e-04 5.09691987e-03 9.54968983e-01 1.71009633e-03\n",
            "  2.71941326e-03 3.39491297e-03 9.21041164e-04 2.83198680e-03\n",
            "  2.34335952e-02 4.08282375e-03]]\n"
          ]
        }
      ]
    },
    {
      "cell_type": "markdown",
      "metadata": {
        "id": "DUnJUI0Fsa-Z"
      },
      "source": [
        "## 하드 보팅"
      ]
    },
    {
      "cell_type": "code",
      "metadata": {
        "colab": {
          "base_uri": "https://localhost:8080/"
        },
        "id": "2H8OBwK5sa-Z",
        "outputId": "490a4760-10be-4ff0-98a8-c8fa21eef723"
      },
      "source": [
        "# 학습 데이터에 대해 학습 실행\n",
        "voting_clf = VotingClassifier(estimators=[('decision_tree', dtree), ('knn', knn), ('svm', svm)], \n",
        "                                          weights=[1,1,1], voting='hard').fit(X_train, y_train)\n",
        "# 테스트 데이터에 대한 예측 실행\n",
        "hard_voting_predicted = voting_clf.predict(X_test)   \n",
        "print(\"하드 보팅 정확도 : %.2f\" %(accuracy_score(y_test, hard_voting_predicted)*100) + \"%\")"
      ],
      "execution_count": null,
      "outputs": [
        {
          "output_type": "stream",
          "name": "stdout",
          "text": [
            "하드 보팅 정확도 : 90.56%\n"
          ]
        }
      ]
    },
    {
      "cell_type": "markdown",
      "metadata": {
        "id": "9Gb_Y3Wzsa-a"
      },
      "source": [
        "## 소프트 보팅"
      ]
    },
    {
      "cell_type": "code",
      "metadata": {
        "colab": {
          "base_uri": "https://localhost:8080/"
        },
        "id": "5__rEcdXsa-a",
        "outputId": "adf6220d-3ddd-4369-a4bc-27149e0a4f70"
      },
      "source": [
        "# 학습 데이터에 대해 학습 실행\n",
        "voting_clf = VotingClassifier(estimators=[('decision_tree', dtree), ('knn', knn), ('svm', svm)], \n",
        "                                          weights=[1,1,1], voting='soft').fit(X_train, y_train)\n",
        "# 테스트 데이터에 대한 예측 실행\n",
        "soft_voting_predicted = voting_clf.predict(X_test)   \n",
        "print(\"소프트 보팅 정확도 : %.2f\" %(accuracy_score(y_test, soft_voting_predicted)*100) + \"%\")"
      ],
      "execution_count": null,
      "outputs": [
        {
          "output_type": "stream",
          "name": "stdout",
          "text": [
            "소프트 보팅 정확도 : 85.28%\n"
          ]
        }
      ]
    },
    {
      "cell_type": "markdown",
      "metadata": {
        "id": "lxEFjh6-sa-a"
      },
      "source": [
        "## 정확도 비교 시각화"
      ]
    },
    {
      "cell_type": "code",
      "metadata": {
        "scrolled": true,
        "colab": {
          "base_uri": "https://localhost:8080/",
          "height": 265
        },
        "id": "kiNRG1aMsa-a",
        "outputId": "684dc1ce-f285-40d5-879a-58e7604dd49c"
      },
      "source": [
        "import matplotlib.pyplot as plt\n",
        "import numpy as np\n",
        "%matplotlib inline\n",
        "\n",
        "x = np.arange(5)  # 0부터 5개 숫자들을 array 형태로 반환. 즉 [0, 1, 2, 3, 4]\n",
        "plt.bar(x, height= [accuracy_score(y_test, dtree_predicted),\n",
        "                            accuracy_score(y_test, knn_predicted),\n",
        "                            accuracy_score(y_test, svm_predicted),\n",
        "                            accuracy_score(y_test, hard_voting_predicted),\n",
        "                            accuracy_score(y_test, soft_voting_predicted)])\n",
        "plt.xticks(x, ['Decision Tree', 'kNN', 'SVM', 'Hard Voting', 'Soft Voting']);"
      ],
      "execution_count": null,
      "outputs": [
        {
          "output_type": "display_data",
          "data": {
            "text/plain": [
              "<Figure size 432x288 with 1 Axes>"
            ],
            "image/png": "[encoded data removed]"
          },
          "metadata": {
            "needs_background": "light"
          }
        }
      ]
    }
  ]
}